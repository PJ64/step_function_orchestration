{
 "cells": [
  {
   "cell_type": "markdown",
   "metadata": {},
   "source": [
    "## Orchestration with Step Functions"
   ]
  },
  {
   "cell_type": "markdown",
   "metadata": {},
   "source": [
    "In this example the AWS Step Function service uses a state machines to orchestrate the execution of AWS Lambda functions. A client sends a request to an Amazon API Gateway which in turn passes that request to the Step Function service. Included in the request sent to the Step Function service is the body of information to be processed and the state machine to be executed. \n",
    "\n",
    "The state machine begins by calling a Lambda function which writes input to a DynamoDB table. If that operation is successful the state machine calls the next function which writes the input as an object to an Amazon S3."
   ]
  },
  {
   "cell_type": "markdown",
   "metadata": {},
   "source": [
    "![architecture](../images/architecture_3.png \"Architecture\")"
   ]
  },
  {
   "cell_type": "markdown",
   "metadata": {},
   "source": [
    "### Demonstration Steps\n",
    "1.  The first command posts data to the API Gateway, which in turn passes the request body and state machine name to the AWS Step Function service. Use the Step Function console to view the successful execution of the state machine.\n",
    "\n",
    "\n",
    "2.\tThe second script is the json formatter.\n",
    "\n",
    "\n",
    "3.\tThe third script sends a GET request to the API endpoint which will call a Lambda function that executes a Get Item operation against DynamoDB.\n",
    "\n",
    "\n",
    "4.\tThe next script sends a GET request to the API endpoint which will call a Lambda function that generates a pre-signed URL for an object in S3.\n",
    "\n",
    "\n",
    "5.\tAfter you have successfully executed the state machine, modify the state machine and introduce a **SNS Publish** step to send an email notification when all operations succeed. \n",
    "\n",
    "\n",
    "6.\tTest the modified state machine by placing another order. You should receive a single email.\n",
    "\n",
    "\n",
    "7.\tThe final script returns the previous order was placed."
   ]
  },
  {
   "cell_type": "markdown",
   "metadata": {},
   "source": [
    "**Final State Machine**\n",
    "![architecture](../images/architecture_2.png \"Architecture\")"
   ]
  },
  {
   "cell_type": "markdown",
   "metadata": {},
   "source": [
    "**Note:** Make sure you set **gwid** to your gateway id using - gwid = '...'\n",
    "\n",
    "The first command posts data to the API Gateway, which in turn passes the request body and state machine name to the AWS Step Function service.\n",
    "\n",
    "**Post order**"
   ]
  },
  {
   "cell_type": "code",
   "execution_count": null,
   "metadata": {},
   "outputs": [],
   "source": [
    "import boto3, requests, datetime\n",
    "from random import randrange\n",
    "\n",
    "#Set gateway id\n",
    "gwid = '...'\n",
    "\n",
    "city_list=[\"Adelaide\",\"Brisbane\",\"Canberra\",\"Darwin\",\"Geelong\",\"Gold Coast\",\"Hobart\",\"Melbourne\",\"Perth\",\"Sydney\",\"Wollongong\"]\n",
    "coffeetype_list=[\"Short Black\",\"Flat White\",\"Latte\",\"Long Black\"]\n",
    "coffeesize_list=[{\"size\":\"Small\",\"price\":\"3.5\"},{\"size\":\"Medium\",\"price\":\"4.0\"},{\"size\":\"Large\",\"price\":\"4.5\"},{\"size\":\"x-Large\",\"price\":\"5.0\"}]\n",
    "\n",
    "url = (f'https://{gwid}.execute-api.ap-southeast-2.amazonaws.com/prod/order')\n",
    "\n",
    "for i in range(5):\n",
    "    accountid = 'a' + str(i)\n",
    "    vendorid = 'v' + str(i)\n",
    "    orderdate = str(datetime.datetime.now())\n",
    "    \n",
    "    #Original value-----------\n",
    "    coffeesize = randrange(4)\n",
    "    #-------------------------\n",
    "\n",
    "    quantity = randrange(10)+1\n",
    "    city = city_list[randrange(11)]\n",
    "    eventtype=\"new_order\"\n",
    "    response = requests.post(url,json={'order':{\n",
    "            'accountid': accountid,\n",
    "            'orderdate':orderdate,\n",
    "            'vendorid': vendorid,\n",
    "            'city':city,\n",
    "            'details':{\n",
    "                'coffeetype': coffeetype_list[randrange(4)],\n",
    "                'coffeesize': coffeesize_list[coffeesize][\"size\"],\n",
    "                'unitprice': coffeesize_list[coffeesize][\"price\"],\n",
    "                'quantity': quantity\n",
    "            },\n",
    "            'eventtype':[eventtype]\n",
    "        }\n",
    "    })\n",
    "\n",
    "print(response)"
   ]
  },
  {
   "cell_type": "markdown",
   "metadata": {},
   "source": [
    "**json formatter** - Run the following script to create a class which will be used to render json objects in a readable format."
   ]
  },
  {
   "cell_type": "code",
   "execution_count": null,
   "metadata": {},
   "outputs": [],
   "source": [
    "import json, uuid\n",
    "from IPython.display import display_javascript, display_html, display\n",
    "\n",
    "class RenderJSON(object):\n",
    "    def __init__(self, json_data):\n",
    "        if isinstance(json_data, dict) or isinstance(json_data, list):\n",
    "            self.json_str = json.dumps(json_data)\n",
    "        else:\n",
    "            self.json_str = json_data\n",
    "        self.uuid = str(uuid.uuid4())\n",
    "\n",
    "    def _ipython_display_(self):\n",
    "        display_html('<div id=\"{}\" style=\"height: 600px; width:100%;font: 12px/18px monospace !important;\"></div>'.format(self.uuid), raw=True)\n",
    "        display_javascript(\"\"\"\n",
    "        require([\"https://rawgit.com/caldwell/renderjson/master/renderjson.js\"], function() {\n",
    "            renderjson.set_show_to_level(2);\n",
    "            document.getElementById('%s').appendChild(renderjson(%s))\n",
    "        });\n",
    "      \"\"\" % (self.uuid, self.json_str), raw=True)"
   ]
  },
  {
   "cell_type": "markdown",
   "metadata": {},
   "source": [
    "**Get Order** from Amazon DynamoDB using the primary key (accountid & vendorid)"
   ]
  },
  {
   "cell_type": "code",
   "execution_count": null,
   "metadata": {},
   "outputs": [],
   "source": [
    "url = (f'https://{gwid}.execute-api.ap-southeast-2.amazonaws.com/prod/order')\n",
    "\n",
    "response_get = requests.get(url, params={'accountid':'a0','vendorid':'v0'})\n",
    "\n",
    "RenderJSON(response_get.json())"
   ]
  },
  {
   "cell_type": "markdown",
   "metadata": {},
   "source": [
    "**Get pre-signed url from S3**, use the url to retrieve the object."
   ]
  },
  {
   "cell_type": "code",
   "execution_count": null,
   "metadata": {},
   "outputs": [],
   "source": [
    "#Get Script\n",
    "\n",
    "url = (f'https://{gwid}.execute-api.ap-southeast-2.amazonaws.com/prod/invoice')\n",
    "\n",
    "now = datetime.datetime.now()\n",
    "path = str(now.year) + '/' + str(now.month) + '/'\n",
    "\n",
    "response_get = requests.get(url, params={'objectKey':path + 'a0'})\n",
    "\n",
    "print(response_get.json())"
   ]
  },
  {
   "cell_type": "markdown",
   "metadata": {},
   "source": [
    "**SNS Notification**. Using the **Step Functions Workflow Studio** edit the state machine and insert a **SNS Publish** step between **task_put_object** and **Job Succeeded**. Configure the step with the following settings.\n",
    "\n",
    "Topic ARN: ```accountid:step_function_orhestration_topic```\n",
    "\n",
    "**SNS Subscription**. You will also need to setup and confirm a SNS Subscription.\n",
    "\n",
    "Protocol: ```Email```\n",
    "\n",
    "Endpoint: ```Your email```\n"
   ]
  },
  {
   "cell_type": "code",
   "execution_count": null,
   "metadata": {},
   "outputs": [],
   "source": [
    "url = (f'https://{gwid}.execute-api.ap-southeast-2.amazonaws.com/prod/order')\n",
    "\n",
    "accountid = 'a100'\n",
    "vendorid = 'v100'\n",
    "orderdate = str(datetime.datetime.now())\n",
    "\n",
    "#Original value-----------\n",
    "coffeesize = randrange(4)\n",
    "#-------------------------\n",
    "\n",
    "quantity = randrange(10)+1\n",
    "city = city_list[randrange(11)]\n",
    "eventtype=\"new_order\"\n",
    "response = requests.post(url,json={'order':{\n",
    "        'accountid': accountid,\n",
    "        'orderdate':orderdate,\n",
    "        'vendorid': vendorid,\n",
    "        'city':city,\n",
    "        'details':{\n",
    "            'coffeetype': coffeetype_list[randrange(4)],\n",
    "            'coffeesize': coffeesize_list[coffeesize][\"size\"],\n",
    "            'unitprice': coffeesize_list[coffeesize][\"price\"],\n",
    "            'quantity': quantity\n",
    "        },\n",
    "        'eventtype':[eventtype]\n",
    "    }\n",
    "})\n",
    "print(response)"
   ]
  },
  {
   "cell_type": "markdown",
   "metadata": {},
   "source": [
    "**Get Order** from Amazon DynamoDB using the primary key (accountid & vendorid)"
   ]
  },
  {
   "cell_type": "code",
   "execution_count": null,
   "metadata": {},
   "outputs": [],
   "source": [
    "url = (f'https://{gwid}.execute-api.ap-southeast-2.amazonaws.com/prod/order')\n",
    "\n",
    "response_get = requests.get(url, params={'accountid':'a100','vendorid':'v100'})\n",
    "\n",
    "RenderJSON(response_get.json())"
   ]
  },
  {
   "cell_type": "code",
   "execution_count": null,
   "metadata": {},
   "outputs": [],
   "source": []
  }
 ],
 "metadata": {
  "kernelspec": {
   "display_name": "Python 3",
   "language": "python",
   "name": "python3"
  },
  "language_info": {
   "codemirror_mode": {
    "name": "ipython",
    "version": 3
   },
   "file_extension": ".py",
   "mimetype": "text/x-python",
   "name": "python",
   "nbconvert_exporter": "python",
   "pygments_lexer": "ipython3",
   "version": "3.8.5"
  }
 },
 "nbformat": 4,
 "nbformat_minor": 4
}
